{
 "cells": [
  {
   "cell_type": "code",
   "execution_count": 5,
   "id": "8b971e7c",
   "metadata": {},
   "outputs": [
    {
     "name": "stdout",
     "output_type": "stream",
     "text": [
      "sample input: 10\n",
      "sample output: 35\n"
     ]
    }
   ],
   "source": [
    "a=10\n",
    "print(\"sample input:\",a)\n",
    "x= lambda p : p + 25\n",
    "print(\"sample output:\",x(a))"
   ]
  },
  {
   "cell_type": "code",
   "execution_count": null,
   "id": "fe3ba6f5",
   "metadata": {},
   "outputs": [],
   "source": []
  }
 ],
 "metadata": {
  "kernelspec": {
   "display_name": "Python 3 (ipykernel)",
   "language": "python",
   "name": "python3"
  },
  "language_info": {
   "codemirror_mode": {
    "name": "ipython",
    "version": 3
   },
   "file_extension": ".py",
   "mimetype": "text/x-python",
   "name": "python",
   "nbconvert_exporter": "python",
   "pygments_lexer": "ipython3",
   "version": "3.9.7"
  }
 },
 "nbformat": 4,
 "nbformat_minor": 5
}
